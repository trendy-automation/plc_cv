{
 "cells": [
  {
   "cell_type": "markdown",
   "id": "416c993c-dfa3-479c-81ac-83c4435b63ce",
   "metadata": {
    "pycharm": {
     "name": "#%% md\n"
    },
    "tags": []
   },
   "source": [
    "# PLC siemens + realsense D455 rect depth matching"
   ]
  },
  {
   "cell_type": "markdown",
   "id": "50e7a4ea-1237-42f9-9dbc-8dda9120f4c3",
   "metadata": {
    "pycharm": {
     "name": "#%% md\n"
    },
    "tags": []
   },
   "source": [
    "## Snap7 PLC connection"
   ]
  },
  {
   "cell_type": "code",
   "execution_count": null,
   "id": "522b129c-01ae-4543-800c-b661fd1f6e72",
   "metadata": {
    "pycharm": {
     "name": "#%%\n"
    },
    "tags": []
   },
   "outputs": [],
   "source": [
    "#common variables\n",
    "found_part_num=0"
   ]
  },
  {
   "cell_type": "markdown",
   "id": "6412a14a-d205-4cf4-91d8-d1d22b71f6a9",
   "metadata": {
    "jp-MarkdownHeadingCollapsed": true,
    "pycharm": {
     "name": "#%% md\n"
    },
    "tags": []
   },
   "source": [
    "## PLC class import"
   ]
  },
  {
   "cell_type": "code",
   "execution_count": 8,
   "id": "88708f56-bafd-44a9-bba9-cfd7aa1372d6",
   "metadata": {
    "pycharm": {
     "name": "#%%\n"
    }
   },
   "outputs": [],
   "source": [
    "import sys\n",
    "sys.path.insert(1, '../python')\n",
    "import plc"
   ]
  },
  {
   "cell_type": "markdown",
   "id": "7eb8f95d-88b0-46d2-9588-df43028a5262",
   "metadata": {
    "jp-MarkdownHeadingCollapsed": true,
    "pycharm": {
     "name": "#%% md\n"
    },
    "tags": []
   },
   "source": [
    "## PLC class debug"
   ]
  },
  {
   "cell_type": "code",
   "execution_count": 3,
   "id": "a7a8e8d2-2007-43ad-a003-b811ea015cce",
   "metadata": {
    "pycharm": {
     "name": "#%%\n"
    }
   },
   "outputs": [],
   "source": [
    "import snap7\n",
    "import sys\n",
    "import logging\n",
    "from logging import handlers\n",
    "from logging.handlers import RotatingFileHandler\n",
    "import traceback\n",
    "import time\n",
    "import threading\n",
    "from snap7.util import *\n",
    "import yaml\n",
    "import os\n",
    "csd = '../python' #os.path.dirname(os.path.abspath(__file__))\n",
    "config = yaml.safe_load(open(csd+\"/config.yml\"))\n",
    "\n",
    "# TODO found_part_num\n",
    "#found_part_num = 0\n",
    "camera_db_num = config['plc']['camera_db_num']\n",
    "reconnect_timeout = config['plc']['reconnect_timeout']\n",
    "\n",
    "class PLC(threading.Thread):\n",
    "    def __init__(self, plc_ip):\n",
    "        #init\n",
    "        threading.Thread.__init__(self, args=(), name=plc_ip, kwargs=None)\n",
    "        self.plc_ip = plc_ip\n",
    "        self.found_part_num = 0\n",
    "        self.snapshotReq = False\n",
    "        self.plc_ip = plc_ip\n",
    "        self.logger = logging.getLogger(\"_plc_.client\")\n",
    "        #logging.getLogger().addHandler(logging.StreamHandler(sys.stdout))\n",
    "        logging.basicConfig(level=config['logger']['level'],\n",
    "                            handlers=[logging.StreamHandler(sys.stdout),\n",
    "                                      logging.handlers.RotatingFileHandler(config['logger']['debug_file'],\n",
    "                                                                           maxBytes=(1048576 * 5),\n",
    "                                                                           backupCount=7)],\n",
    "                            format=config['logger']['format'])\n",
    "        self.snap7client = snap7.client.Client()\n",
    "        self.connection_ok = False\n",
    "        self.unreachable_time = 0\n",
    "        self.connect_postpone = False\n",
    "\n",
    "    def get_bool(self, db_number, offsetbyte, offsetbit):\n",
    "        return snap7.util.get_bool(self.db_read(db_number, offsetbyte, 1), 0, offsetbit)\n",
    "\n",
    "    def set_usint(self, db_number, offsetbyte, tag_value):\n",
    "        tag_data = bytearray(1)\n",
    "        snap7.util.set_usint(tag_data, 0, tag_value)\n",
    "        self.snap7client.db_write(db_number, offsetbyte, tag_data)\n",
    "        return True\n",
    "\n",
    "    def db_read(self, db_number, offsetbyte, len_arr):\n",
    "        return self.snap7client.db_read(db_number, offsetbyte, len_arr)\n",
    "\n",
    "    def db_write(self, db_number, offsetbyte, tag_data):\n",
    "        return self.snap7client.db_write(db_number, offsetbyte, tag_data)\n",
    "\n",
    "    def run(self):\n",
    "        self.logger.info(f\"Connection with PLC {self.plc_ip} started\")\n",
    "        cur_thread = threading.current_thread()\n",
    "        # Основной цикл\n",
    "        while getattr(cur_thread, \"do_run\", True):\n",
    "            try:\n",
    "                time.sleep(1.2)\n",
    "                if self.unreachable_time == 0 or (time.time() - self.unreachable_time) > reconnect_timeout:\n",
    "                    if not self.snap7client.get_connected():\n",
    "                        # Подключение к контроллеру ...\n",
    "                        try:\n",
    "                            self.connection_ok = False\n",
    "                            self.logger.info(f\"Подключение к контроллеру {self.plc_ip}...\")\n",
    "                            self.snap7client.connect(self.plc_ip, 0, 1)\n",
    "                        except Exception as error:\n",
    "                            self.logger.error(f\"Не удалось подключиться к контроллеру: {self.plc_ip}\\n\"\n",
    "                                              f\"Ошибка {str(error)} {traceback.format_exc()}\")\n",
    "                            snap7.client.logger.disabled = True\n",
    "                            self.unreachable_time = time.time()\n",
    "                    else:\n",
    "                        if not self.connection_ok:\n",
    "                            self.connection_ok = True\n",
    "                            self.unreachable_time = 0\n",
    "                            self.logger.info(f\"Соединение открыто {self.plc_ip}\")\n",
    "                            snap7.client.logger.disabled = False\n",
    "                        try:\n",
    "                            if not self.snapshotReq:\n",
    "                                self.snapshotReq = self.get_bool(db_number=camera_db_num, offsetbyte=0, offsetbit=0)\n",
    "                                if self.snapshotReq:\n",
    "                                    self.logger.info(f\"Строб съёмки пришёл {self.snapshotReq}\")\n",
    "                        except Exception as error:\n",
    "                            self.logger.error(f\"Не удалось считать строб съёмки: DB{camera_db_num}.DBX0.0\\n\"\n",
    "                                              f\"Ошибка {str(error)} {traceback.format_exc()}\")\n",
    "                            self.snap7client.disconnect()\n",
    "\n",
    "\n",
    "                        if self.snapshotReq:\n",
    "                            if self.found_part_num > 0:\n",
    "                               self.logger.info(f\"Запись результата распознования - номер найденной детали - {self.found_part_num}\")\n",
    "                               try:\n",
    "                                   self.set_usint(db_number=camera_db_num, offsetbyte=1, tag_value=self.found_part_num)\n",
    "                                   self.found_part_num = 0\n",
    "                               except Exception as error:\n",
    "                                   self.logger.error(f\"Не удалось записать результат съёмки: DB{camera_db_num}.DBB1\\n\"\n",
    "                                                     f\"Ошибка {str(error)} {traceback.format_exc()}\")\n",
    "                                   self.snap7client.disconnect()\n",
    "            except Exception as error:\n",
    "                self.logger.error(f\"Не удалось обработать цикл класса plc\\n\"\n",
    "                                  f\"Ошибка {str(error)} {traceback.format_exc()}\")"
   ]
  },
  {
   "cell_type": "code",
   "execution_count": 3,
   "id": "0b4492f6-4fe9-48e5-92bb-00649471ea98",
   "metadata": {
    "pycharm": {
     "name": "#%%\n"
    }
   },
   "outputs": [],
   "source": [
    "my_plc = PLC('192.168.1.101')"
   ]
  },
  {
   "cell_type": "code",
   "execution_count": 4,
   "id": "df53e06d-1ee3-43de-8027-bb2bbdb8baef",
   "metadata": {
    "pycharm": {
     "name": "#%%\n"
    }
   },
   "outputs": [],
   "source": [
    "my_plc.start()"
   ]
  },
  {
   "cell_type": "markdown",
   "id": "27f58cc3-0da7-43c4-8304-d4ee5202e61d",
   "metadata": {
    "pycharm": {
     "name": "#%% md\n"
    },
    "tags": []
   },
   "source": [
    "## Part detection with Intel realsense D455 and OpenCV"
   ]
  },
  {
   "cell_type": "code",
   "execution_count": null,
   "id": "6701ed56-27cd-4a14-8fca-54d2139dc950",
   "metadata": {
    "tags": []
   },
   "outputs": [],
   "source": [
    "scaleAbs_alpha = 0.3\n",
    "threshold = 0.65\n"
   ]
  },
  {
   "cell_type": "code",
   "execution_count": 1,
   "id": "55824400-7508-44fb-b7ed-13b3533e9c1f",
   "metadata": {
    "pycharm": {
     "name": "#%%\n"
    },
    "tags": []
   },
   "outputs": [
    {
     "name": "stdout",
     "output_type": "stream",
     "text": [
      "Warning! No module named 'sounddevice'\n",
      "Warning! No module named 'matplotlib'\n",
      "Warning! No module named 'keras'\n",
      "device_product_line D400\n",
      "Server started at http://172.17.0.2:9001\n"
     ]
    },
    {
     "name": "stderr",
     "output_type": "stream",
     "text": [
      "192.168.1.74 - - [26/Apr/2023 04:52:30] \"GET /index.html HTTP/1.1\" 200 -\n",
      "192.168.1.74 - - [26/Apr/2023 04:52:31] \"GET /stream.mjpg HTTP/1.1\" 200 -\n",
      "192.168.1.74 - - [26/Apr/2023 04:52:42] \"GET /index.html HTTP/1.1\" 200 -\n",
      "WARNING:root:Removed streaming client ('192.168.1.74', 55868): [Errno 32] Broken pipe\n",
      "192.168.1.74 - - [26/Apr/2023 04:52:42] \"GET /stream.mjpg HTTP/1.1\" 200 -\n",
      "WARNING:root:Removed streaming client ('192.168.1.74', 55870): wait_for_frames cannot be called before start()\n"
     ]
    },
    {
     "ename": "KeyboardInterrupt",
     "evalue": "",
     "output_type": "error",
     "traceback": [
      "\u001b[0;31m---------------------------------------------------------------------------\u001b[0m",
      "\u001b[0;31mKeyboardInterrupt\u001b[0m                         Traceback (most recent call last)",
      "Cell \u001b[0;32mIn[1], line 148\u001b[0m\n\u001b[1;32m    146\u001b[0m server \u001b[38;5;241m=\u001b[39m ps\u001b[38;5;241m.\u001b[39mStreamer(address, StreamProps)\n\u001b[1;32m    147\u001b[0m \u001b[38;5;28mprint\u001b[39m(\u001b[38;5;124m'\u001b[39m\u001b[38;5;124mServer started at\u001b[39m\u001b[38;5;124m'\u001b[39m,\u001b[38;5;124m'\u001b[39m\u001b[38;5;124mhttp://\u001b[39m\u001b[38;5;124m'\u001b[39m\u001b[38;5;241m+\u001b[39maddress[\u001b[38;5;241m0\u001b[39m]\u001b[38;5;241m+\u001b[39m\u001b[38;5;124m'\u001b[39m\u001b[38;5;124m:\u001b[39m\u001b[38;5;124m'\u001b[39m\u001b[38;5;241m+\u001b[39m\u001b[38;5;28mstr\u001b[39m(address[\u001b[38;5;241m1\u001b[39m]))\n\u001b[0;32m--> 148\u001b[0m \u001b[43mserver\u001b[49m\u001b[38;5;241;43m.\u001b[39;49m\u001b[43mserve_forever\u001b[49m\u001b[43m(\u001b[49m\u001b[43m)\u001b[49m\n\u001b[1;32m    149\u001b[0m \u001b[38;5;28;01mwhile\u001b[39;00m \u001b[38;5;28;01mTrue\u001b[39;00m:\n\u001b[1;32m    150\u001b[0m     cv2\u001b[38;5;241m.\u001b[39mwaitKey(\u001b[38;5;241m1\u001b[39m)\n",
      "File \u001b[0;32m/opt/conda/lib/python3.10/socketserver.py:232\u001b[0m, in \u001b[0;36mBaseServer.serve_forever\u001b[0;34m(self, poll_interval)\u001b[0m\n\u001b[1;32m    229\u001b[0m selector\u001b[38;5;241m.\u001b[39mregister(\u001b[38;5;28mself\u001b[39m, selectors\u001b[38;5;241m.\u001b[39mEVENT_READ)\n\u001b[1;32m    231\u001b[0m \u001b[38;5;28;01mwhile\u001b[39;00m \u001b[38;5;129;01mnot\u001b[39;00m \u001b[38;5;28mself\u001b[39m\u001b[38;5;241m.\u001b[39m__shutdown_request:\n\u001b[0;32m--> 232\u001b[0m     ready \u001b[38;5;241m=\u001b[39m \u001b[43mselector\u001b[49m\u001b[38;5;241;43m.\u001b[39;49m\u001b[43mselect\u001b[49m\u001b[43m(\u001b[49m\u001b[43mpoll_interval\u001b[49m\u001b[43m)\u001b[49m\n\u001b[1;32m    233\u001b[0m     \u001b[38;5;66;03m# bpo-35017: shutdown() called during select(), exit immediately.\u001b[39;00m\n\u001b[1;32m    234\u001b[0m     \u001b[38;5;28;01mif\u001b[39;00m \u001b[38;5;28mself\u001b[39m\u001b[38;5;241m.\u001b[39m__shutdown_request:\n",
      "File \u001b[0;32m/opt/conda/lib/python3.10/selectors.py:416\u001b[0m, in \u001b[0;36m_PollLikeSelector.select\u001b[0;34m(self, timeout)\u001b[0m\n\u001b[1;32m    414\u001b[0m ready \u001b[38;5;241m=\u001b[39m []\n\u001b[1;32m    415\u001b[0m \u001b[38;5;28;01mtry\u001b[39;00m:\n\u001b[0;32m--> 416\u001b[0m     fd_event_list \u001b[38;5;241m=\u001b[39m \u001b[38;5;28;43mself\u001b[39;49m\u001b[38;5;241;43m.\u001b[39;49m\u001b[43m_selector\u001b[49m\u001b[38;5;241;43m.\u001b[39;49m\u001b[43mpoll\u001b[49m\u001b[43m(\u001b[49m\u001b[43mtimeout\u001b[49m\u001b[43m)\u001b[49m\n\u001b[1;32m    417\u001b[0m \u001b[38;5;28;01mexcept\u001b[39;00m \u001b[38;5;167;01mInterruptedError\u001b[39;00m:\n\u001b[1;32m    418\u001b[0m     \u001b[38;5;28;01mreturn\u001b[39;00m ready\n",
      "\u001b[0;31mKeyboardInterrupt\u001b[0m: "
     ]
    }
   ],
   "source": [
    "#var huck\n",
    "found_part_num = 0\n",
    "teach_part_num = 0\n",
    "\n",
    "#separate file - configurations of parts and settings\n",
    "tolerance = 0.05\n",
    "scaleAbs_alpha = 0.3\n",
    "threshold = 0.65\n",
    "#resolution_x,resolution_y=640,480\n",
    "resolution_x,resolution_y=848,480\n",
    "#resolution_x,resolution_y=1280,720\n",
    "fps=5\n",
    "parts=[ dict(code='8АТ-1250-11',part_name='Корпус маятника',step_name='Установ А',h=212,w=89,Zavg=400),\n",
    "        dict(code='8АТ-1250-11',part_name='Корпус маятника',step_name='Установ B',h=208,w=87,Zavg=400),\n",
    "        dict(code='8АТ-1250-11',part_name='Корпус маятника',step_name='Установ C',h=208,w=80.6,Zavg=400),\n",
    "        dict(code='8АТ-1250-11',part_name='Корпус маятника',step_name='Установ D',h=208,w=80,Zavg=400),\n",
    "        dict(code='8АТ-1250-11',part_name='Корпус маятника',step_name='Установ E',h=528,w=268,Zavg=400),\n",
    "        dict(code='17115.2900.77',part_name='Переходник',step_name='Установ А',h=273,w=206,Zavg=400),\n",
    "        dict(code='17115.2900.77',part_name='Переходник',step_name='Установ B',h=209.03,w=206,Zavg=400)]\n",
    "\n",
    "\n",
    "import pyrealsense2 as rs\n",
    "import numpy as np\n",
    "import pyshine as ps\n",
    "import socket\n",
    "import cv2\n",
    "import os\n",
    "\n",
    "templateDir = 'templates'\n",
    "lstdr = os.listdir(templateDir)\n",
    "parts = [f for f in lstdr if os.path.isdir(templateDir+'/'+f)] \n",
    "templates = {str(p):[f for f in os.listdir(templateDir+'/'+p) if os.path.isfile(templateDir+'/'+p+'/'+f) and f.endswith('.png')] for p in parts} \n",
    "\n",
    "HTML=f\"\"\"\n",
    "<html>\n",
    "<body>\n",
    "<center><img src=\"stream.mjpg\" width='{resolution_x*2}' height='{resolution_y}' autoplay playsinline></center>\n",
    "</body>\n",
    "</html>\n",
    "\"\"\"\n",
    "\n",
    "StreamProps = ps.StreamProps\n",
    "StreamProps.set_Page(StreamProps,HTML)\n",
    "address = (socket.gethostbyname(socket.gethostname()),9001) # Enter your IP address \n",
    "\n",
    "\n",
    "class ImgCapture():\n",
    "\n",
    "    def __init__(self):\n",
    "        pass\n",
    "    \n",
    "    def read(self):\n",
    "\n",
    "        # Wait for a coherent pair of frames: depth and color\n",
    "        self.frames = pipeline.wait_for_frames()\n",
    "        depth_frame = self.frames.get_depth_frame()\n",
    "        color_frame = self.frames.get_color_frame()\n",
    "        \"\"\"\n",
    "        # Convert images to numpy arrays\n",
    "        #depth_image = np.asanyarray(depth_frame.get_data())\n",
    "        frames = []\n",
    "        for x in range(15):\n",
    "            frameset = pipeline.wait_for_frames()\n",
    "            frames.append(frameset.get_depth_frame())\n",
    "        \n",
    "        hole_filling = rs.hole_filling_filter()\n",
    "        for x in range(15):\n",
    "            frame = hole_filling.process(frames[x])\n",
    "            frames[x] = np.asanyarray(frame.get_data())\n",
    "        depth_image = np.min(frames, axis=0)        \n",
    "        \"\"\"\n",
    "        hole_filling = rs.hole_filling_filter()\n",
    "        depth_frame = hole_filling.process(depth_frame)\n",
    "        depth_image = np.asanyarray(depth_frame.get_data())\n",
    "        color_image = np.asanyarray(color_frame.get_data())\n",
    "        \n",
    "        # Apply colormap on depth image (image must be converted to 8-bit per pixel first)\n",
    "        depth_colormap = cv2.applyColorMap(cv2.convertScaleAbs(depth_image, alpha=scaleAbs_alpha), cv2.COLORMAP_JET)\n",
    "        depth_colormap_dim = depth_colormap.shape\n",
    "        color_colormap_dim = color_image.shape\n",
    "        \n",
    "        #print (f\"templates loop for {templates}\")\n",
    "        for part, pics in templates.items():\n",
    "            #print (f\"look for part {part}\")\n",
    "            for file in pics:\n",
    "                #print (f\"look for template {template}\")\n",
    "                template = cv2.imread(f\"{templateDir}/{part}/{file}\")\n",
    "                h, w = template.shape[:2]\n",
    "                methods = [cv2.TM_SQDIFF_NORMED, cv2.TM_CCORR_NORMED, cv2.TM_CCOEFF_NORMED]\n",
    "                res = cv2.matchTemplate(depth_colormap, template, methods[2])\n",
    "                loc = np.where(res >= threshold)  # Coordinates y, x where the matching degree is greater than threshold\n",
    "                #print(\"loc\", loc)\n",
    "                #for pt in zip(*loc[::-1]):  # * Indicates optional parameters\n",
    "                if len(loc[0])>0:\n",
    "                    print (f\"Part {part} found\" )\n",
    "                    pt = list(zip(*loc[::-1]))[0]\n",
    "                    right_bottom = (pt[0] + w, pt[1] + h)\n",
    "                    cv2.rectangle(depth_colormap, pt, right_bottom, (0, 0, 255), 1)\n",
    "                    continue\n",
    "        \n",
    "        # If depth and color resolutions are different, resize color image to match depth image for display\n",
    "        if depth_colormap_dim != color_colormap_dim:\n",
    "            color_image = cv2.resize(color_image, dsize=(depth_colormap_dim[1], depth_colormap_dim[0]), interpolation=cv2.INTER_AREA)\n",
    "        images = np.hstack((depth_colormap, color_image))\n",
    "        \n",
    "        if images is not None:\n",
    "            ret = True\n",
    "        return(ret, images)\n",
    "\n",
    "    def isOpened(self):\n",
    "        ret, _, _ = self.rs.get_frame_stream()\n",
    "        return(ret)   \n",
    "        \n",
    "\n",
    "# Configure depth and color streams\n",
    "pipeline = rs.pipeline()\n",
    "config = rs.config()\n",
    "\n",
    "# Get device product line for setting a supporting resolution\n",
    "pipeline_wrapper = rs.pipeline_wrapper(pipeline)\n",
    "pipeline_profile = config.resolve(pipeline_wrapper)\n",
    "device = pipeline_profile.get_device()\n",
    "#depth_sensor = device.first_depth_sensor()\n",
    "device_product_line = str(device.get_info(rs.camera_info.product_line))\n",
    "print('device_product_line',device_product_line)\n",
    "\n",
    "found_rgb = False\n",
    "for s in device.sensors:\n",
    "    if s.get_info(rs.camera_info.name) == 'RGB Camera':\n",
    "        found_rgb = True\n",
    "        break\n",
    "if not found_rgb:\n",
    "    print(\"The demo requires Depth camera with Color sensor\")\n",
    "    exit(0)\n",
    "align = rs.align(rs.stream.color)\n",
    "config.enable_stream(rs.stream.depth, resolution_x, resolution_y, rs.format.z16, fps)\n",
    "config.enable_stream(rs.stream.color, resolution_x, resolution_y, rs.format.bgr8, fps)\n",
    "\n",
    "# Start streaming\n",
    "pipeline.start(config)\n",
    "try:\n",
    "            StreamProps.set_Mode(StreamProps,'cv2')\n",
    "            capImages = ImgCapture()\n",
    "            StreamProps.set_Capture(StreamProps, capImages)\n",
    "            StreamProps.set_Quality(StreamProps, 90)\n",
    "            server = ps.Streamer(address, StreamProps)\n",
    "            print('Server started at','http://'+address[0]+':'+str(address[1]))\n",
    "            server.serve_forever()\n",
    "            while True:\n",
    "                cv2.waitKey(1)\n",
    "        \n",
    "finally: \n",
    "    # Stop streaming\n",
    "    pipeline.stop() "
   ]
  },
  {
   "cell_type": "code",
   "execution_count": null,
   "id": "a59707ae-3e0f-47a2-8c45-15df3fcc1613",
   "metadata": {
    "jp-MarkdownHeadingCollapsed": true,
    "pycharm": {
     "name": "#%%\n"
    },
    "tags": []
   },
   "outputs": [],
   "source": [
    "#cv2.destroyAllWindows()"
   ]
  },
  {
   "cell_type": "code",
   "execution_count": null,
   "id": "0b3fb9e4-8e10-4c3f-8153-2033bfaa9479",
   "metadata": {
    "pycharm": {
     "name": "#%%\n"
    }
   },
   "outputs": [],
   "source": [
    "def template_demo():\n",
    "    tpl = cv.imread(\"./files/images/match2.png\")\n",
    "    target = cv.imread(\"./files/images/match1.png\")\n",
    "\n",
    "    methods = [cv.TM_SQDIFF_NORMED, cv.TM_CCORR_NORMED, cv.TM_CCOEFF_NORMED]  # Only test these three template matching methods\n",
    "    th, tw = tpl.shape[:2] #Take length and width\n",
    "\n",
    "    for md in methods:\n",
    "        print(md)\n",
    "        result = cv.matchTemplate(target, tpl, md)  # Get matching results\n",
    "        min_val, max_val, min_loc, max_loc = cv.minMaxLoc(result)\n",
    "        if md == cv.TM_SQDIFF_NORMED:  # cv.TM_SQDIFF_NORMED is the most similar when it is the smallest, most similar when the others are the largest\n",
    "            tl = min_loc\n",
    "        else:\n",
    "            tl = max_loc\n",
    "\n",
    "        br = (tl[0] + tw, tl[1] + th)\n",
    "        cv.rectangle(target, tl, br, (0, 0, 255), 2)  # tl is the coordinates of the upper left corner, br is the coordinates of the lower right corner, so as to draw a rectangle\n",
    "        cv.imshow(\"match-\"+np.str(md), target)"
   ]
  },
  {
   "cell_type": "code",
   "execution_count": 9,
   "id": "9059f970-839f-4005-9bf7-c2ca8f945572",
   "metadata": {
    "pycharm": {
     "name": "#%%\n"
    }
   },
   "outputs": [],
   "source": [
    "def template_demo_more():\n",
    "    img_rgb = cv.imread('./files/images/temp1.jpg')\n",
    "    img_gray = cv.cvtColor(img_rgb, cv.COLOR_BGR2GRAY)\n",
    "    template = cv.imread('./files/images/temp2.jpg', 0)\n",
    "    h, w = template.shape[:2]\n",
    "\n",
    "    res = cv.matchTemplate(img_gray, template, cv.TM_CCOEFF_NORMED)\n",
    "    threshold = 0.8\n",
    "\n",
    "    loc = np.where(res >= threshold)  # Coordinates y, x where the matching degree is greater than %80\n",
    "    print(loc)\n",
    "    for pt in zip(*loc[::-1]):  # * Indicates optional parameters\n",
    "        right_bottom = (pt[0] + w, pt[1] + h)\n",
    "        cv.rectangle(img_rgb, pt, right_bottom, (0, 0, 255), 2)\n",
    "        cv.imshow(\"more\",img_rgb)\n",
    "        "
   ]
  },
  {
   "cell_type": "code",
   "execution_count": null,
   "id": "179aef01-9caf-4ce3-aa04-5f3f392a8498",
   "metadata": {
    "pycharm": {
     "name": "#%%\n"
    }
   },
   "outputs": [],
   "source": []
  }
 ],
 "metadata": {
  "kernelspec": {
   "display_name": "Python 3 (ipykernel)",
   "language": "python",
   "name": "python3"
  },
  "language_info": {
   "codemirror_mode": {
    "name": "ipython",
    "version": 3
   },
   "file_extension": ".py",
   "mimetype": "text/x-python",
   "name": "python",
   "nbconvert_exporter": "python",
   "pygments_lexer": "ipython3",
   "version": "3.10.9"
  }
 },
 "nbformat": 4,
 "nbformat_minor": 5
}
